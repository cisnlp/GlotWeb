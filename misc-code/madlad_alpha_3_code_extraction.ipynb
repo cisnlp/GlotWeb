{
 "cells": [
  {
   "cell_type": "code",
   "execution_count": 43,
   "id": "f329d77a-4778-4975-ab18-a8fa702d235d",
   "metadata": {},
   "outputs": [],
   "source": [
    "import pycountry\n",
    "\n",
    "def iso_two_to_three_conversion(code):\n",
    "    if len(code) == 2:\n",
    "        lang = pycountry.languages.get(alpha_2=code)\n",
    "        if lang:\n",
    "            return lang.alpha_3\n",
    "    elif len(code) == 3:\n",
    "        lang = pycountry.languages.get(alpha_3=code)\n",
    "        if lang:\n",
    "            return lang.alpha_3\n",
    "    return None\n",
    "\n",
    "def extract_iso_code_from_bcp(bcp_identifier):\n",
    "    # Check if there's a hyphen in the identifier\n",
    "    if '_' in bcp_identifier:\n",
    "        language, _ = bcp_identifier.split('_', 1)\n",
    "        if 2 <= len(language) <= 3:\n",
    "            return iso_two_to_three_conversion(language)\n",
    "        else:\n",
    "            # Handle non-ISO codes\n",
    "            raise ValueError(f\"Invalid ISO code: {bcp_identifier}\")\n",
    "    else:\n",
    "        # If no hyphen, assume the input is either a two-letter or three-letter code\n",
    "        if 2 <= len(bcp_identifier) <= 3:\n",
    "            return iso_two_to_three_conversion(bcp_identifier)\n",
    "        else:\n",
    "            return language\n"
   ]
  },
  {
   "cell_type": "code",
   "execution_count": 44,
   "id": "3606d044-3eac-4bb0-912c-b73243c8e398",
   "metadata": {},
   "outputs": [],
   "source": [
    "import csv\n",
    "import json\n",
    "import numpy as np\n",
    "\n",
    "def process_tsv_to_json(tsv_file, output_json):\n",
    "    result_list = []\n",
    "\n",
    "    # Open and process the TSV file\n",
    "    with open(tsv_file, 'r', encoding='utf-8') as file:\n",
    "        reader = csv.DictReader(file, delimiter='\\t')\n",
    "        \n",
    "        # Skip the header and iterate through the rows\n",
    "        for row in reader:\n",
    "            try:\n",
    "                # Apply the conversion function on the 'BCP-47' column\n",
    "                iso_code = extract_iso_code_from_bcp(row['BCP-47'])\n",
    "                result_list.append(iso_code)\n",
    "            except Exception as e:\n",
    "                # If there's an issue with conversion, you can decide to log it or continue\n",
    "                result_list.append(row['BCP-47'])\n",
    "\n",
    "    result_list = result_list[1:]\n",
    "    # Write the result list to a JSON file\n",
    "    with open(output_json, 'w', encoding='utf-8') as json_file:\n",
    "        json.dump(result_list, json_file, ensure_ascii=False, indent=4)"
   ]
  },
  {
   "cell_type": "code",
   "execution_count": 45,
   "id": "832fa182-6340-49f9-8180-8d025f7fd8d7",
   "metadata": {},
   "outputs": [],
   "source": [
    "process_tsv_to_json('madlad.tsv','madlad_aplha_3.json')"
   ]
  },
  {
   "cell_type": "code",
   "execution_count": null,
   "id": "718e7d6e-9951-481c-8630-07a4b65dfe36",
   "metadata": {},
   "outputs": [],
   "source": []
  },
  {
   "cell_type": "code",
   "execution_count": null,
   "id": "920af4e0-a094-4166-8602-9661981b4b7b",
   "metadata": {},
   "outputs": [],
   "source": []
  }
 ],
 "metadata": {
  "kernelspec": {
   "display_name": "Python 3",
   "language": "python",
   "name": "python3"
  },
  "language_info": {
   "codemirror_mode": {
    "name": "ipython",
    "version": 3
   },
   "file_extension": ".py",
   "mimetype": "text/x-python",
   "name": "python",
   "nbconvert_exporter": "python",
   "pygments_lexer": "ipython3",
   "version": "3.8.8"
  }
 },
 "nbformat": 4,
 "nbformat_minor": 5
}
