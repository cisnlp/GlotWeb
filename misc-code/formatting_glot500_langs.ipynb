{
 "cells": [
  {
   "cell_type": "code",
   "execution_count": 7,
   "id": "43154a26-c2b3-42ab-b5cc-0c800d0d5ab6",
   "metadata": {},
   "outputs": [],
   "source": [
    "import csv\n",
    "import json\n",
    "\n",
    "def find_underscores_in_csv(file_path):\n",
    "    output_list = []\n",
    "    \n",
    "    with open(file_path, newline='', encoding='utf-8') as csvfile:\n",
    "        reader = csv.reader(csvfile)\n",
    "        \n",
    "        for row in reader:\n",
    "            for cell in row:\n",
    "                if '_' in cell:\n",
    "                    output_list.append(cell)\n",
    "    \n",
    "    return output_list"
   ]
  },
  {
   "cell_type": "code",
   "execution_count": 8,
   "id": "da507292-803f-4f2b-9f9e-5dfa3de46bf2",
   "metadata": {},
   "outputs": [],
   "source": [
    "# Example usage\n",
    "file_path = 'glot500_raw.csv'  # Replace with your actual CSV file path\n",
    "glot500_iso_code = find_underscores_in_csv(file_path)\n"
   ]
  },
  {
   "cell_type": "code",
   "execution_count": 9,
   "id": "99404a8c-7967-4ee7-ac2d-e03b84fa0ad0",
   "metadata": {},
   "outputs": [
    {
     "data": {
      "text/plain": [
       "534"
      ]
     },
     "execution_count": 9,
     "metadata": {},
     "output_type": "execute_result"
    }
   ],
   "source": [
    "len(glot500_iso_code)"
   ]
  },
  {
   "cell_type": "code",
   "execution_count": 10,
   "id": "641c442d-fff6-4ea3-b0ce-105872daa9dc",
   "metadata": {},
   "outputs": [],
   "source": [
    "with open('glot500_iso_code.json', 'w', encoding='utf-8') as json_file:\n",
    "    json.dump(glot500_iso_code, json_file, ensure_ascii=False, indent=4)"
   ]
  },
  {
   "cell_type": "code",
   "execution_count": null,
   "id": "7772feb0-b988-4bc8-b9d1-1f274e62ab18",
   "metadata": {},
   "outputs": [],
   "source": []
  }
 ],
 "metadata": {
  "kernelspec": {
   "display_name": "Python 3",
   "language": "python",
   "name": "python3"
  },
  "language_info": {
   "codemirror_mode": {
    "name": "ipython",
    "version": 3
   },
   "file_extension": ".py",
   "mimetype": "text/x-python",
   "name": "python",
   "nbconvert_exporter": "python",
   "pygments_lexer": "ipython3",
   "version": "3.8.8"
  }
 },
 "nbformat": 4,
 "nbformat_minor": 5
}
